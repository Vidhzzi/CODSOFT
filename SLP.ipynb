{
  "nbformat": 4,
  "nbformat_minor": 0,
  "metadata": {
    "colab": {
      "provenance": [],
      "authorship_tag": "ABX9TyPR58PSSQWQ1EdLm2w2bbSg",
      "include_colab_link": true
    },
    "kernelspec": {
      "name": "python3",
      "display_name": "Python 3"
    },
    "language_info": {
      "name": "python"
    }
  },
  "cells": [
    {
      "cell_type": "markdown",
      "metadata": {
        "id": "view-in-github",
        "colab_type": "text"
      },
      "source": [
        "<a href=\"https://colab.research.google.com/github/Vidhzzi/CODSOFT/blob/main/SLP.ipynb\" target=\"_parent\"><img src=\"https://colab.research.google.com/assets/colab-badge.svg\" alt=\"Open In Colab\"/></a>"
      ]
    },
    {
      "cell_type": "code",
      "execution_count": 1,
      "metadata": {
        "id": "6cy98auYX7XG"
      },
      "outputs": [],
      "source": [
        "import numpy as np"
      ]
    },
    {
      "cell_type": "code",
      "source": [
        "X = np.array([[0,0], [0,1], [1,0], [1,1]])\n",
        "Y = np.array([0, 1, 1, 1])"
      ],
      "metadata": {
        "id": "Ezfk2LjicgMB"
      },
      "execution_count": 2,
      "outputs": []
    },
    {
      "cell_type": "code",
      "source": [
        "weights = np.random.rand(2)\n",
        "bias = np.random.rand()\n",
        "learning_rate = 0.1"
      ],
      "metadata": {
        "id": "KL4b1_h0cmQa"
      },
      "execution_count": 3,
      "outputs": []
    },
    {
      "cell_type": "code",
      "source": [
        "def step_function(x):\n",
        "    return 1 if x > 0 else 0"
      ],
      "metadata": {
        "id": "YljZH2VYcpwF"
      },
      "execution_count": 5,
      "outputs": []
    },
    {
      "cell_type": "code",
      "source": [
        "for epoch in range(10):\n",
        "   print(f\"Epoch {epoch+1}\")\n",
        "for i in range(len(X)):\n",
        "    x_input = X[i]\n",
        "    y_true = Y[i]"
      ],
      "metadata": {
        "colab": {
          "base_uri": "https://localhost:8080/"
        },
        "id": "BNfF5BAscsTm",
        "outputId": "d2417592-81ab-4ff3-afda-cdfaf13386af"
      },
      "execution_count": 7,
      "outputs": [
        {
          "output_type": "stream",
          "name": "stdout",
          "text": [
            "Epoch 1\n",
            "Epoch 2\n",
            "Epoch 3\n",
            "Epoch 4\n",
            "Epoch 5\n",
            "Epoch 6\n",
            "Epoch 7\n",
            "Epoch 8\n",
            "Epoch 9\n",
            "Epoch 10\n"
          ]
        }
      ]
    },
    {
      "cell_type": "code",
      "source": [
        "linear_output = np.dot(weights, x_input) + bias\n",
        "y_pred = step_function(linear_output)"
      ],
      "metadata": {
        "id": "rH1Cv-ZycytY"
      },
      "execution_count": 8,
      "outputs": []
    },
    {
      "cell_type": "code",
      "source": [
        "error = y_true - y_pred\n",
        "weights = weights + learning_rate * error * x_input\n",
        "bias = bias + learning_rate * error"
      ],
      "metadata": {
        "id": "cXQltSL8c7m3"
      },
      "execution_count": 9,
      "outputs": []
    },
    {
      "cell_type": "code",
      "source": [
        "print(f\"Input: {x_input}, Predicted: {y_pred}, Error: {error}\")\n",
        "print(f\"Weights: {weights}, Bias: {bias}\")\n",
        "print(\"-----\")"
      ],
      "metadata": {
        "colab": {
          "base_uri": "https://localhost:8080/"
        },
        "id": "gGa-YFbGc_Ah",
        "outputId": "777dcf04-8312-4489-f3d6-db811cbc14d6"
      },
      "execution_count": 10,
      "outputs": [
        {
          "output_type": "stream",
          "name": "stdout",
          "text": [
            "Input: [1 1], Predicted: 1, Error: 0\n",
            "Weights: [0.42059349 0.89571692], Bias: 0.36683478430282257\n",
            "-----\n"
          ]
        }
      ]
    },
    {
      "cell_type": "code",
      "source": [
        "print(\"Testing after training:\")\n",
        "for i in range(len(X)):\n",
        "    linear_output = np.dot(weights, X[i]) + bias\n",
        "y_pred = step_function(linear_output)\n",
        "print(f\"Input: {X[i]}, Output: {y_pred}\")"
      ],
      "metadata": {
        "colab": {
          "base_uri": "https://localhost:8080/"
        },
        "id": "zewz_PB3dB_-",
        "outputId": "acaadfdf-4d4f-4684-8e5f-b095d785c19c"
      },
      "execution_count": 11,
      "outputs": [
        {
          "output_type": "stream",
          "name": "stdout",
          "text": [
            "Testing after training:\n",
            "Input: [1 1], Output: 1\n"
          ]
        }
      ]
    }
  ]
}