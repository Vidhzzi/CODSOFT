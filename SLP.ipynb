{
  "nbformat": 4,
  "nbformat_minor": 0,
  "metadata": {
    "colab": {
      "provenance": [],
      "authorship_tag": "ABX9TyNySC080uEmA4TAaKCqV3AG",
      "include_colab_link": true
    },
    "kernelspec": {
      "name": "python3",
      "display_name": "Python 3"
    },
    "language_info": {
      "name": "python"
    }
  },
  "cells": [
    {
      "cell_type": "markdown",
      "metadata": {
        "id": "view-in-github",
        "colab_type": "text"
      },
      "source": [
        "<a href=\"https://colab.research.google.com/github/Vidhzzi/CODSOFT/blob/main/SLP.ipynb\" target=\"_parent\"><img src=\"https://colab.research.google.com/assets/colab-badge.svg\" alt=\"Open In Colab\"/></a>"
      ]
    },
    {
      "cell_type": "code",
      "source": [
        "import numpy as np"
      ],
      "metadata": {
        "id": "s2V8X5ibdzM-"
      },
      "execution_count": 13,
      "outputs": []
    },
    {
      "cell_type": "code",
      "source": [
        "X = np.array([[0,0], [0,1], [1,0], [1,1]])\n",
        "Y = np.array([0, 1, 1, 1])"
      ],
      "metadata": {
        "id": "eAHC8EAXd22U"
      },
      "execution_count": 14,
      "outputs": []
    },
    {
      "cell_type": "code",
      "source": [
        "weights = np.random.rand(2)\n",
        "bias = np.random.rand()\n",
        "learning_rate = 0.1"
      ],
      "metadata": {
        "id": "imOWsTNVd8qe"
      },
      "execution_count": 15,
      "outputs": []
    },
    {
      "cell_type": "code",
      "source": [
        "def step_function(x):\n",
        "    return 1 if x > 0 else 0"
      ],
      "metadata": {
        "id": "jH4hA9C-d_1b"
      },
      "execution_count": 16,
      "outputs": []
    },
    {
      "cell_type": "code",
      "source": [
        "for epoch in range(10):\n",
        "    print(f\"Epoch {epoch+1}\")\n",
        "    for i in range(len(X)):\n",
        "      x_input = X[i]\n",
        "      y_true = Y[i]"
      ],
      "metadata": {
        "colab": {
          "base_uri": "https://localhost:8080/"
        },
        "id": "MLzdZpbSeG-2",
        "outputId": "345aa956-bfda-4267-e902-2b2bcead82c3"
      },
      "execution_count": 18,
      "outputs": [
        {
          "output_type": "stream",
          "name": "stdout",
          "text": [
            "Epoch 1\n",
            "Epoch 2\n",
            "Epoch 3\n",
            "Epoch 4\n",
            "Epoch 5\n",
            "Epoch 6\n",
            "Epoch 7\n",
            "Epoch 8\n",
            "Epoch 9\n",
            "Epoch 10\n"
          ]
        }
      ]
    },
    {
      "cell_type": "code",
      "source": [
        "linear_output = np.dot(weights, x_input) + bias\n",
        "y_pred = step_function(linear_output)"
      ],
      "metadata": {
        "id": "p16iCjGQeOeb"
      },
      "execution_count": 19,
      "outputs": []
    },
    {
      "cell_type": "code",
      "source": [
        "error = y_true - y_pred\n",
        "weights = weights + learning_rate * error * x_input\n",
        "bias = bias + learning_rate * error"
      ],
      "metadata": {
        "id": "dJiWC1w-eSlN"
      },
      "execution_count": 20,
      "outputs": []
    },
    {
      "cell_type": "code",
      "source": [
        "print(f\"Input: {x_input}, Predicted: {y_pred}, Error: {error}\")\n",
        "print(f\"Weights: {weights}, Bias: {bias}\")\n",
        "print(\"-----\")"
      ],
      "metadata": {
        "colab": {
          "base_uri": "https://localhost:8080/"
        },
        "id": "pQFtzuoMeYG0",
        "outputId": "88b5c0f0-7ffe-44b5-a015-623cdf2233ce"
      },
      "execution_count": 21,
      "outputs": [
        {
          "output_type": "stream",
          "name": "stdout",
          "text": [
            "Input: [1 1], Predicted: 1, Error: 0\n",
            "Weights: [0.45650198 0.65300029], Bias: 0.30217748450236004\n",
            "-----\n"
          ]
        }
      ]
    },
    {
      "cell_type": "code",
      "source": [
        "print(\"Testing after training:\")\n",
        "for i in range(len(X)):\n",
        "    linear_output = np.dot(weights, X[i]) + bias\n",
        "    y_pred = step_function(linear_output)\n",
        "    print(f\"Input: {X[i]}, Output: {y_pred}\")"
      ],
      "metadata": {
        "colab": {
          "base_uri": "https://localhost:8080/"
        },
        "id": "TclXL6xHebbB",
        "outputId": "6ef74cb1-01e2-49ce-c722-c572970e58ca"
      },
      "execution_count": 22,
      "outputs": [
        {
          "output_type": "stream",
          "name": "stdout",
          "text": [
            "Testing after training:\n",
            "Input: [0 0], Output: 1\n",
            "Input: [0 1], Output: 1\n",
            "Input: [1 0], Output: 1\n",
            "Input: [1 1], Output: 1\n"
          ]
        }
      ]
    }
  ]
}