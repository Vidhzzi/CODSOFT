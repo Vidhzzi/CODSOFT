{
  "nbformat": 4,
  "nbformat_minor": 0,
  "metadata": {
    "colab": {
      "provenance": []
    },
    "kernelspec": {
      "name": "python3",
      "display_name": "Python 3"
    },
    "language_info": {
      "name": "python"
    }
  },
  "cells": [
    {
      "cell_type": "code",
      "source": [
        "import random\n",
        "import string\n",
        "\n",
        "def generate_password(length, include_uppercase, include_numbers, include_special):\n",
        "    if length < 4:\n",
        "        return \"Error: Password length should be at least 4 for better security.\"\n",
        "\n",
        "    characters = string.ascii_lowercase\n",
        "\n",
        "    if include_uppercase:\n",
        "        characters += string.ascii_uppercase\n",
        "    if include_numbers:\n",
        "        characters += string.digits\n",
        "    if include_special:\n",
        "        characters += string.punctuation\n",
        "\n",
        "    password = []\n",
        "    if include_uppercase:\n",
        "        password.append(random.choice(string.ascii_uppercase))\n",
        "    if include_numbers:\n",
        "        password.append(random.choice(string.digits))\n",
        "    if include_special:\n",
        "        password.append(random.choice(string.punctuation))\n",
        "\n",
        "    while len(password) < length:\n",
        "        password.append(random.choice(characters))\n",
        "\n",
        "    random.shuffle(password)\n",
        "\n",
        "    return ''.join(password)\n",
        "\n",
        "def main():\n",
        "    print(\"Enhanced Password Generator\")\n",
        "    print(\"---------------------------\")\n",
        "\n",
        "    while True:\n",
        "        try:\n",
        "            length = int(input(\"Enter the desired password length (minimum 4): \"))\n",
        "            include_uppercase = input(\"Include uppercase letters? (yes/no): \").strip().lower() == 'yes'\n",
        "            include_numbers = input(\"Include numbers? (yes/no): \").strip().lower() == 'yes'\n",
        "            include_special = input(\"Include special characters? (yes/no): \").strip().lower() == 'yes'\n",
        "\n",
        "            password = generate_password(length, include_uppercase, include_numbers, include_special)\n",
        "            print(f\"\\nGenerated Password: {password}\")\n",
        "\n",
        "            repeat = input(\"\\nGenerate another password? (yes/no): \").strip().lower()\n",
        "            if repeat != 'yes':\n",
        "                print(\"Goodbye!\")\n",
        "                break\n",
        "        except ValueError:\n",
        "            print(\"Invalid input! Please enter a numeric value for the password length.\")\n",
        "\n",
        "if __name__ == \"__main__\":\n",
        "    main()\n"
      ],
      "metadata": {
        "colab": {
          "base_uri": "https://localhost:8080/"
        },
        "id": "PAnKyBCg_KHm",
        "outputId": "466384fb-df99-488b-9613-36b54cbc39d4"
      },
      "execution_count": null,
      "outputs": [
        {
          "output_type": "stream",
          "name": "stdout",
          "text": [
            "Enhanced Password Generator\n",
            "---------------------------\n",
            "Enter the desired password length (minimum 4): 4\n",
            "Include uppercase letters? (yes/no): yes\n",
            "Include numbers? (yes/no): yes\n",
            "Include special characters? (yes/no): yes\n",
            "\n",
            "Generated Password: s>5Y\n"
          ]
        }
      ]
    }
  ]
}