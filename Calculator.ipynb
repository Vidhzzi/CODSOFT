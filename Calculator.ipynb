{
  "nbformat": 4,
  "nbformat_minor": 0,
  "metadata": {
    "colab": {
      "provenance": []
    },
    "kernelspec": {
      "name": "python3",
      "display_name": "Python 3"
    },
    "language_info": {
      "name": "python"
    }
  },
  "cells": [
    {
      "cell_type": "code",
      "source": [
        "import math\n",
        "\n",
        "def add(a, b):\n",
        "    return a + b\n",
        "\n",
        "def subtract(a, b):\n",
        "    return a - b\n",
        "\n",
        "def multiply(a, b):\n",
        "    return a * b\n",
        "\n",
        "def divide(a, b):\n",
        "    if b != 0:\n",
        "        return a / b\n",
        "    else:\n",
        "        return \"Error: Division by zero is not allowed.\"\n",
        "\n",
        "def power(a, b):\n",
        "    return a ** b\n",
        "\n",
        "def square_root(a):\n",
        "    if a >= 0:\n",
        "        return math.sqrt(a)\n",
        "    else:\n",
        "        return \"Error: Cannot calculate the square root of a negative number.\"\n",
        "\n",
        "def modulus(a, b):\n",
        "    return a % b\n",
        "\n",
        "def display_menu():\n",
        "    print(\"\\nEnhanced Calculator\")\n",
        "    print(\"-------------------\")\n",
        "    print(\"Select an operation:\")\n",
        "    print(\"1. Addition (+)\")\n",
        "    print(\"2. Subtraction (-)\")\n",
        "    print(\"3. Multiplication (*)\")\n",
        "    print(\"4. Division (/)\")\n",
        "    print(\"5. Power (a^b)\")\n",
        "    print(\"6. Square Root (√a)\")\n",
        "    print(\"7. Modulus (%)\")\n",
        "    print(\"8. Exit\")\n",
        "\n",
        "def calculator():\n",
        "    while True:\n",
        "        display_menu()\n",
        "        try:\n",
        "            choice = input(\"\\nEnter your choice (1-8): \")\n",
        "\n",
        "            if choice == \"8\":\n",
        "                print(\"Goodbye!\")\n",
        "                break\n",
        "\n",
        "            if choice in ['1', '2', '3', '4', '5', '7']:\n",
        "                num1 = float(input(\"Enter the first number: \"))\n",
        "                num2 = float(input(\"Enter the second number: \"))\n",
        "                if choice == '1':\n",
        "                    print(f\"Result: {num1} + {num2} = {add(num1, num2)}\")\n",
        "                elif choice == '2':\n",
        "                    print(f\"Result: {num1} - {num2} = {subtract(num1, num2)}\")\n",
        "                elif choice == '3':\n",
        "                    print(f\"Result: {num1} * {num2} = {multiply(num1, num2)}\")\n",
        "                elif choice == '4':\n",
        "                    print(f\"Result: {num1} / {num2} = {divide(num1, num2)}\")\n",
        "                elif choice == '5':\n",
        "                    print(f\"Result: {num1} ^ {num2} = {power(num1, num2)}\")\n",
        "                elif choice == '7':\n",
        "                    print(f\"Result: {num1} % {num2} = {modulus(num1, num2)}\")\n",
        "            elif choice == '6':\n",
        "                num = float(input(\"Enter the number: \"))\n",
        "                print(f\"Result: √{num} = {square_root(num)}\")\n",
        "            else:\n",
        "                print(\"Invalid choice. Please select a valid option (1-8).\")\n",
        "        except ValueError:\n",
        "            print(\"Invalid input. Please enter numeric values.\")\n",
        "\n",
        "if __name__ == \"__main__\":\n",
        "    calculator()\n"
      ],
      "metadata": {
        "colab": {
          "base_uri": "https://localhost:8080/"
        },
        "id": "DV-CgzQU9ygB",
        "outputId": "7ea8559f-3ea5-4ceb-85dc-7bdf138610eb"
      },
      "execution_count": null,
      "outputs": [
        {
          "output_type": "stream",
          "name": "stdout",
          "text": [
            "\n",
            "Enhanced Calculator\n",
            "-------------------\n",
            "Select an operation:\n",
            "1. Addition (+)\n",
            "2. Subtraction (-)\n",
            "3. Multiplication (*)\n",
            "4. Division (/)\n",
            "5. Power (a^b)\n",
            "6. Square Root (√a)\n",
            "7. Modulus (%)\n",
            "8. Exit\n"
          ]
        }
      ]
    },
    {
      "cell_type": "code",
      "source": [],
      "metadata": {
        "id": "fHyYYNlf-uxs"
      },
      "execution_count": null,
      "outputs": []
    }
  ]
}